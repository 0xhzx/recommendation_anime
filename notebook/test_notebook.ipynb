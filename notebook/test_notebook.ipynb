{
 "cells": [
  {
   "cell_type": "code",
   "execution_count": 1,
   "metadata": {},
   "outputs": [],
   "source": [
    "import pandas as pd"
   ]
  },
  {
   "cell_type": "code",
   "execution_count": 20,
   "metadata": {},
   "outputs": [
    {
     "data": {
      "text/html": [
       "<div>\n",
       "<style scoped>\n",
       "    .dataframe tbody tr th:only-of-type {\n",
       "        vertical-align: middle;\n",
       "    }\n",
       "\n",
       "    .dataframe tbody tr th {\n",
       "        vertical-align: top;\n",
       "    }\n",
       "\n",
       "    .dataframe thead th {\n",
       "        text-align: right;\n",
       "    }\n",
       "</style>\n",
       "<table border=\"1\" class=\"dataframe\">\n",
       "  <thead>\n",
       "    <tr style=\"text-align: right;\">\n",
       "      <th></th>\n",
       "      <th>Name</th>\n",
       "      <th>Genres</th>\n",
       "    </tr>\n",
       "    <tr>\n",
       "      <th>anime_id</th>\n",
       "      <th></th>\n",
       "      <th></th>\n",
       "    </tr>\n",
       "  </thead>\n",
       "  <tbody>\n",
       "    <tr>\n",
       "      <th>1</th>\n",
       "      <td>Cowboy Bebop</td>\n",
       "      <td>Action, Adventure, Comedy, Drama, Sci-Fi, Space</td>\n",
       "    </tr>\n",
       "    <tr>\n",
       "      <th>5</th>\n",
       "      <td>Cowboy Bebop: Tengoku no Tobira</td>\n",
       "      <td>Action, Drama, Mystery, Sci-Fi, Space</td>\n",
       "    </tr>\n",
       "  </tbody>\n",
       "</table>\n",
       "</div>"
      ],
      "text/plain": [
       "                                     Name  \\\n",
       "anime_id                                    \n",
       "1                            Cowboy Bebop   \n",
       "5         Cowboy Bebop: Tengoku no Tobira   \n",
       "\n",
       "                                                   Genres  \n",
       "anime_id                                                   \n",
       "1         Action, Adventure, Comedy, Drama, Sci-Fi, Space  \n",
       "5                   Action, Drama, Mystery, Sci-Fi, Space  "
      ]
     },
     "execution_count": 20,
     "metadata": {},
     "output_type": "execute_result"
    }
   ],
   "source": [
    "anime_mapping = pd.read_csv('../data/anime_mapping.csv',index_col='anime_id')\n",
    "anime_mapping.iloc[0:2,:]"
   ]
  },
  {
   "cell_type": "code",
   "execution_count": 21,
   "metadata": {},
   "outputs": [
    {
     "data": {
      "text/plain": [
       "Index([    1,     5,     6,     7,     8,    15,    16,    17,    18,    19,\n",
       "       ...\n",
       "       48456, 48466, 48470, 48471, 48480, 48481, 48483, 48488, 48491, 48492],\n",
       "      dtype='int64', name='anime_id', length=16214)"
      ]
     },
     "execution_count": 21,
     "metadata": {},
     "output_type": "execute_result"
    }
   ],
   "source": [
    "anime_mapping.index"
   ]
  },
  {
   "cell_type": "code",
   "execution_count": 22,
   "metadata": {},
   "outputs": [
    {
     "data": {
      "text/html": [
       "<div>\n",
       "<style scoped>\n",
       "    .dataframe tbody tr th:only-of-type {\n",
       "        vertical-align: middle;\n",
       "    }\n",
       "\n",
       "    .dataframe tbody tr th {\n",
       "        vertical-align: top;\n",
       "    }\n",
       "\n",
       "    .dataframe thead th {\n",
       "        text-align: right;\n",
       "    }\n",
       "</style>\n",
       "<table border=\"1\" class=\"dataframe\">\n",
       "  <thead>\n",
       "    <tr style=\"text-align: right;\">\n",
       "      <th></th>\n",
       "      <th>13767</th>\n",
       "      <th>1735</th>\n",
       "      <th>9624</th>\n",
       "      <th>53</th>\n",
       "      <th>5112</th>\n",
       "      <th>6287</th>\n",
       "      <th>8676</th>\n",
       "      <th>9925</th>\n",
       "      <th>15085</th>\n",
       "      <th>6547</th>\n",
       "      <th>...</th>\n",
       "      <th>41401</th>\n",
       "      <th>20083</th>\n",
       "      <th>37058</th>\n",
       "      <th>31317</th>\n",
       "      <th>3778</th>\n",
       "      <th>34502</th>\n",
       "      <th>38562</th>\n",
       "      <th>22053</th>\n",
       "      <th>2280</th>\n",
       "      <th>27491</th>\n",
       "    </tr>\n",
       "    <tr>\n",
       "      <th>anime_id</th>\n",
       "      <th></th>\n",
       "      <th></th>\n",
       "      <th></th>\n",
       "      <th></th>\n",
       "      <th></th>\n",
       "      <th></th>\n",
       "      <th></th>\n",
       "      <th></th>\n",
       "      <th></th>\n",
       "      <th></th>\n",
       "      <th></th>\n",
       "      <th></th>\n",
       "      <th></th>\n",
       "      <th></th>\n",
       "      <th></th>\n",
       "      <th></th>\n",
       "      <th></th>\n",
       "      <th></th>\n",
       "      <th></th>\n",
       "      <th></th>\n",
       "      <th></th>\n",
       "    </tr>\n",
       "  </thead>\n",
       "  <tbody>\n",
       "    <tr>\n",
       "      <th>13767</th>\n",
       "      <td>1.000000</td>\n",
       "      <td>0.316228</td>\n",
       "      <td>0.223607</td>\n",
       "      <td>0.507093</td>\n",
       "      <td>0.447214</td>\n",
       "      <td>0.316228</td>\n",
       "      <td>0.365148</td>\n",
       "      <td>0.0</td>\n",
       "      <td>0.200000</td>\n",
       "      <td>0.400000</td>\n",
       "      <td>...</td>\n",
       "      <td>0.316228</td>\n",
       "      <td>0.258199</td>\n",
       "      <td>0.000000</td>\n",
       "      <td>0.447214</td>\n",
       "      <td>0.223607</td>\n",
       "      <td>0.223607</td>\n",
       "      <td>0.223607</td>\n",
       "      <td>0.223607</td>\n",
       "      <td>0.316228</td>\n",
       "      <td>0.258199</td>\n",
       "    </tr>\n",
       "    <tr>\n",
       "      <th>1735</th>\n",
       "      <td>0.316228</td>\n",
       "      <td>1.000000</td>\n",
       "      <td>0.000000</td>\n",
       "      <td>0.133631</td>\n",
       "      <td>0.176777</td>\n",
       "      <td>0.250000</td>\n",
       "      <td>0.144338</td>\n",
       "      <td>0.0</td>\n",
       "      <td>0.000000</td>\n",
       "      <td>0.316228</td>\n",
       "      <td>...</td>\n",
       "      <td>0.500000</td>\n",
       "      <td>0.204124</td>\n",
       "      <td>0.353553</td>\n",
       "      <td>0.353553</td>\n",
       "      <td>0.176777</td>\n",
       "      <td>0.353553</td>\n",
       "      <td>0.176777</td>\n",
       "      <td>0.176777</td>\n",
       "      <td>0.250000</td>\n",
       "      <td>0.204124</td>\n",
       "    </tr>\n",
       "    <tr>\n",
       "      <th>9624</th>\n",
       "      <td>0.223607</td>\n",
       "      <td>0.000000</td>\n",
       "      <td>1.000000</td>\n",
       "      <td>0.188982</td>\n",
       "      <td>0.500000</td>\n",
       "      <td>0.353553</td>\n",
       "      <td>0.204124</td>\n",
       "      <td>0.0</td>\n",
       "      <td>0.223607</td>\n",
       "      <td>0.000000</td>\n",
       "      <td>...</td>\n",
       "      <td>0.000000</td>\n",
       "      <td>0.000000</td>\n",
       "      <td>0.000000</td>\n",
       "      <td>0.000000</td>\n",
       "      <td>0.000000</td>\n",
       "      <td>0.000000</td>\n",
       "      <td>0.000000</td>\n",
       "      <td>0.000000</td>\n",
       "      <td>0.353553</td>\n",
       "      <td>0.000000</td>\n",
       "    </tr>\n",
       "    <tr>\n",
       "      <th>53</th>\n",
       "      <td>0.507093</td>\n",
       "      <td>0.133631</td>\n",
       "      <td>0.188982</td>\n",
       "      <td>1.000000</td>\n",
       "      <td>0.377964</td>\n",
       "      <td>0.267261</td>\n",
       "      <td>0.771517</td>\n",
       "      <td>0.0</td>\n",
       "      <td>0.338062</td>\n",
       "      <td>0.338062</td>\n",
       "      <td>...</td>\n",
       "      <td>0.267261</td>\n",
       "      <td>0.218218</td>\n",
       "      <td>0.000000</td>\n",
       "      <td>0.377964</td>\n",
       "      <td>0.188982</td>\n",
       "      <td>0.188982</td>\n",
       "      <td>0.755929</td>\n",
       "      <td>0.188982</td>\n",
       "      <td>0.267261</td>\n",
       "      <td>0.218218</td>\n",
       "    </tr>\n",
       "    <tr>\n",
       "      <th>5112</th>\n",
       "      <td>0.447214</td>\n",
       "      <td>0.176777</td>\n",
       "      <td>0.500000</td>\n",
       "      <td>0.377964</td>\n",
       "      <td>1.000000</td>\n",
       "      <td>0.707107</td>\n",
       "      <td>0.408248</td>\n",
       "      <td>0.0</td>\n",
       "      <td>0.447214</td>\n",
       "      <td>0.223607</td>\n",
       "      <td>...</td>\n",
       "      <td>0.353553</td>\n",
       "      <td>0.288675</td>\n",
       "      <td>0.000000</td>\n",
       "      <td>0.500000</td>\n",
       "      <td>0.250000</td>\n",
       "      <td>0.250000</td>\n",
       "      <td>0.250000</td>\n",
       "      <td>0.250000</td>\n",
       "      <td>0.353553</td>\n",
       "      <td>0.577350</td>\n",
       "    </tr>\n",
       "  </tbody>\n",
       "</table>\n",
       "<p>5 rows × 12896 columns</p>\n",
       "</div>"
      ],
      "text/plain": [
       "             13767      1735      9624        53      5112      6287  \\\n",
       "anime_id                                                               \n",
       "13767     1.000000  0.316228  0.223607  0.507093  0.447214  0.316228   \n",
       "1735      0.316228  1.000000  0.000000  0.133631  0.176777  0.250000   \n",
       "9624      0.223607  0.000000  1.000000  0.188982  0.500000  0.353553   \n",
       "53        0.507093  0.133631  0.188982  1.000000  0.377964  0.267261   \n",
       "5112      0.447214  0.176777  0.500000  0.377964  1.000000  0.707107   \n",
       "\n",
       "              8676  9925     15085      6547  ...     41401     20083  \\\n",
       "anime_id                                      ...                       \n",
       "13767     0.365148   0.0  0.200000  0.400000  ...  0.316228  0.258199   \n",
       "1735      0.144338   0.0  0.000000  0.316228  ...  0.500000  0.204124   \n",
       "9624      0.204124   0.0  0.223607  0.000000  ...  0.000000  0.000000   \n",
       "53        0.771517   0.0  0.338062  0.338062  ...  0.267261  0.218218   \n",
       "5112      0.408248   0.0  0.447214  0.223607  ...  0.353553  0.288675   \n",
       "\n",
       "             37058     31317      3778     34502     38562     22053  \\\n",
       "anime_id                                                               \n",
       "13767     0.000000  0.447214  0.223607  0.223607  0.223607  0.223607   \n",
       "1735      0.353553  0.353553  0.176777  0.353553  0.176777  0.176777   \n",
       "9624      0.000000  0.000000  0.000000  0.000000  0.000000  0.000000   \n",
       "53        0.000000  0.377964  0.188982  0.188982  0.755929  0.188982   \n",
       "5112      0.000000  0.500000  0.250000  0.250000  0.250000  0.250000   \n",
       "\n",
       "              2280     27491  \n",
       "anime_id                      \n",
       "13767     0.316228  0.258199  \n",
       "1735      0.250000  0.204124  \n",
       "9624      0.353553  0.000000  \n",
       "53        0.267261  0.218218  \n",
       "5112      0.353553  0.577350  \n",
       "\n",
       "[5 rows x 12896 columns]"
      ]
     },
     "execution_count": 22,
     "metadata": {},
     "output_type": "execute_result"
    }
   ],
   "source": [
    "csmatrix = pd.read_csv('../data/csmatrix.csv',index_col='anime_id')\n",
    "csmatrix.head()"
   ]
  },
  {
   "cell_type": "code",
   "execution_count": 23,
   "metadata": {},
   "outputs": [
    {
     "data": {
      "text/plain": [
       "13767    1.000000\n",
       "1735     0.316228\n",
       "9624     0.223607\n",
       "53       0.507093\n",
       "5112     0.447214\n",
       "           ...   \n",
       "34502    0.223607\n",
       "38562    0.223607\n",
       "22053    0.223607\n",
       "2280     0.316228\n",
       "27491    0.258199\n",
       "Name: 13767, Length: 12896, dtype: float64"
      ]
     },
     "execution_count": 23,
     "metadata": {},
     "output_type": "execute_result"
    }
   ],
   "source": [
    "csmatrix.loc[13767]"
   ]
  },
  {
   "cell_type": "code",
   "execution_count": 24,
   "metadata": {},
   "outputs": [
    {
     "data": {
      "text/plain": [
       "(Index([13767,  1735,  9624,    53,  5112,  6287,  8676,  9925, 15085,  6547,\n",
       "        ...\n",
       "        41401, 20083, 37058, 31317,  3778, 34502, 38562, 22053,  2280, 27491],\n",
       "       dtype='int64', name='anime_id', length=12896),\n",
       " Index(['13767', '1735', '9624', '53', '5112', '6287', '8676', '9925', '15085',\n",
       "        '6547',\n",
       "        ...\n",
       "        '41401', '20083', '37058', '31317', '3778', '34502', '38562', '22053',\n",
       "        '2280', '27491'],\n",
       "       dtype='object', length=12896))"
      ]
     },
     "execution_count": 24,
     "metadata": {},
     "output_type": "execute_result"
    }
   ],
   "source": [
    "csmatrix.index, csmatrix.columns"
   ]
  },
  {
   "cell_type": "code",
   "execution_count": 25,
   "metadata": {},
   "outputs": [
    {
     "data": {
      "text/html": [
       "<div>\n",
       "<style scoped>\n",
       "    .dataframe tbody tr th:only-of-type {\n",
       "        vertical-align: middle;\n",
       "    }\n",
       "\n",
       "    .dataframe tbody tr th {\n",
       "        vertical-align: top;\n",
       "    }\n",
       "\n",
       "    .dataframe thead th {\n",
       "        text-align: right;\n",
       "    }\n",
       "</style>\n",
       "<table border=\"1\" class=\"dataframe\">\n",
       "  <thead>\n",
       "    <tr style=\"text-align: right;\">\n",
       "      <th></th>\n",
       "      <th>Name</th>\n",
       "      <th>Genres</th>\n",
       "    </tr>\n",
       "    <tr>\n",
       "      <th>anime_id</th>\n",
       "      <th></th>\n",
       "      <th></th>\n",
       "    </tr>\n",
       "  </thead>\n",
       "  <tbody>\n",
       "    <tr>\n",
       "      <th>13767</th>\n",
       "      <td>Junjou Romantica OVA</td>\n",
       "      <td>Comedy, Drama, Romance, Shounen Ai</td>\n",
       "    </tr>\n",
       "  </tbody>\n",
       "</table>\n",
       "</div>"
      ],
      "text/plain": [
       "                          Name                              Genres\n",
       "anime_id                                                          \n",
       "13767     Junjou Romantica OVA  Comedy, Drama, Romance, Shounen Ai"
      ]
     },
     "execution_count": 25,
     "metadata": {},
     "output_type": "execute_result"
    }
   ],
   "source": [
    "anime = 'Junjou Romantica OVA'\n",
    "anime_mapping[anime_mapping['Name'] == anime]"
   ]
  },
  {
   "cell_type": "code",
   "execution_count": 26,
   "metadata": {},
   "outputs": [
    {
     "data": {
      "text/plain": [
       "13767"
      ]
     },
     "execution_count": 26,
     "metadata": {},
     "output_type": "execute_result"
    }
   ],
   "source": [
    "anime = \"Junjou Romantica OVA\"\n",
    "anime_index = anime_mapping[anime_mapping['Name'] == anime].index[0]\n",
    "anime_index"
   ]
  },
  {
   "cell_type": "code",
   "execution_count": 27,
   "metadata": {},
   "outputs": [
    {
     "data": {
      "text/plain": [
       "13767    0.507093\n",
       "1735     0.534522\n",
       "9624     0.000000\n",
       "53       0.285714\n",
       "5112     0.188982\n",
       "           ...   \n",
       "34502    0.755929\n",
       "38562    0.188982\n",
       "22053    0.188982\n",
       "2280     0.267261\n",
       "27491    0.218218\n",
       "Name: 6, Length: 12896, dtype: float64"
      ]
     },
     "execution_count": 27,
     "metadata": {},
     "output_type": "execute_result"
    }
   ],
   "source": [
    "csmatrix.loc[6]"
   ]
  },
  {
   "cell_type": "code",
   "execution_count": 68,
   "metadata": {},
   "outputs": [],
   "source": [
    "csmatrix[1:200].to_csv(\"../data/small_csmatrix.csv\")"
   ]
  },
  {
   "cell_type": "code",
   "execution_count": 58,
   "metadata": {},
   "outputs": [],
   "source": [
    "df2 = pd.read_csv(\"../data/small_csmatrix.csv\",index_col='anime_id')"
   ]
  },
  {
   "cell_type": "code",
   "execution_count": 59,
   "metadata": {},
   "outputs": [
    {
     "data": {
      "text/html": [
       "<div>\n",
       "<style scoped>\n",
       "    .dataframe tbody tr th:only-of-type {\n",
       "        vertical-align: middle;\n",
       "    }\n",
       "\n",
       "    .dataframe tbody tr th {\n",
       "        vertical-align: top;\n",
       "    }\n",
       "\n",
       "    .dataframe thead th {\n",
       "        text-align: right;\n",
       "    }\n",
       "</style>\n",
       "<table border=\"1\" class=\"dataframe\">\n",
       "  <thead>\n",
       "    <tr style=\"text-align: right;\">\n",
       "      <th></th>\n",
       "      <th>13767</th>\n",
       "      <th>1735</th>\n",
       "      <th>9624</th>\n",
       "      <th>53</th>\n",
       "      <th>5112</th>\n",
       "      <th>6287</th>\n",
       "      <th>8676</th>\n",
       "      <th>9925</th>\n",
       "      <th>15085</th>\n",
       "      <th>6547</th>\n",
       "      <th>...</th>\n",
       "      <th>41401</th>\n",
       "      <th>20083</th>\n",
       "      <th>37058</th>\n",
       "      <th>31317</th>\n",
       "      <th>3778</th>\n",
       "      <th>34502</th>\n",
       "      <th>38562</th>\n",
       "      <th>22053</th>\n",
       "      <th>2280</th>\n",
       "      <th>27491</th>\n",
       "    </tr>\n",
       "    <tr>\n",
       "      <th>anime_id</th>\n",
       "      <th></th>\n",
       "      <th></th>\n",
       "      <th></th>\n",
       "      <th></th>\n",
       "      <th></th>\n",
       "      <th></th>\n",
       "      <th></th>\n",
       "      <th></th>\n",
       "      <th></th>\n",
       "      <th></th>\n",
       "      <th></th>\n",
       "      <th></th>\n",
       "      <th></th>\n",
       "      <th></th>\n",
       "      <th></th>\n",
       "      <th></th>\n",
       "      <th></th>\n",
       "      <th></th>\n",
       "      <th></th>\n",
       "      <th></th>\n",
       "      <th></th>\n",
       "    </tr>\n",
       "  </thead>\n",
       "  <tbody>\n",
       "    <tr>\n",
       "      <th>1735</th>\n",
       "      <td>0.316228</td>\n",
       "      <td>1.000000</td>\n",
       "      <td>0.000000</td>\n",
       "      <td>0.133631</td>\n",
       "      <td>0.176777</td>\n",
       "      <td>0.250000</td>\n",
       "      <td>0.144338</td>\n",
       "      <td>0.000000</td>\n",
       "      <td>0.000000</td>\n",
       "      <td>0.316228</td>\n",
       "      <td>...</td>\n",
       "      <td>0.500000</td>\n",
       "      <td>0.204124</td>\n",
       "      <td>0.353553</td>\n",
       "      <td>0.353553</td>\n",
       "      <td>0.176777</td>\n",
       "      <td>0.353553</td>\n",
       "      <td>0.176777</td>\n",
       "      <td>0.176777</td>\n",
       "      <td>0.250000</td>\n",
       "      <td>0.204124</td>\n",
       "    </tr>\n",
       "    <tr>\n",
       "      <th>9624</th>\n",
       "      <td>0.223607</td>\n",
       "      <td>0.000000</td>\n",
       "      <td>1.000000</td>\n",
       "      <td>0.188982</td>\n",
       "      <td>0.500000</td>\n",
       "      <td>0.353553</td>\n",
       "      <td>0.204124</td>\n",
       "      <td>0.000000</td>\n",
       "      <td>0.223607</td>\n",
       "      <td>0.000000</td>\n",
       "      <td>...</td>\n",
       "      <td>0.000000</td>\n",
       "      <td>0.000000</td>\n",
       "      <td>0.000000</td>\n",
       "      <td>0.000000</td>\n",
       "      <td>0.000000</td>\n",
       "      <td>0.000000</td>\n",
       "      <td>0.000000</td>\n",
       "      <td>0.000000</td>\n",
       "      <td>0.353553</td>\n",
       "      <td>0.000000</td>\n",
       "    </tr>\n",
       "    <tr>\n",
       "      <th>53</th>\n",
       "      <td>0.507093</td>\n",
       "      <td>0.133631</td>\n",
       "      <td>0.188982</td>\n",
       "      <td>1.000000</td>\n",
       "      <td>0.377964</td>\n",
       "      <td>0.267261</td>\n",
       "      <td>0.771517</td>\n",
       "      <td>0.000000</td>\n",
       "      <td>0.338062</td>\n",
       "      <td>0.338062</td>\n",
       "      <td>...</td>\n",
       "      <td>0.267261</td>\n",
       "      <td>0.218218</td>\n",
       "      <td>0.000000</td>\n",
       "      <td>0.377964</td>\n",
       "      <td>0.188982</td>\n",
       "      <td>0.188982</td>\n",
       "      <td>0.755929</td>\n",
       "      <td>0.188982</td>\n",
       "      <td>0.267261</td>\n",
       "      <td>0.218218</td>\n",
       "    </tr>\n",
       "    <tr>\n",
       "      <th>5112</th>\n",
       "      <td>0.447214</td>\n",
       "      <td>0.176777</td>\n",
       "      <td>0.500000</td>\n",
       "      <td>0.377964</td>\n",
       "      <td>1.000000</td>\n",
       "      <td>0.707107</td>\n",
       "      <td>0.408248</td>\n",
       "      <td>0.000000</td>\n",
       "      <td>0.447214</td>\n",
       "      <td>0.223607</td>\n",
       "      <td>...</td>\n",
       "      <td>0.353553</td>\n",
       "      <td>0.288675</td>\n",
       "      <td>0.000000</td>\n",
       "      <td>0.500000</td>\n",
       "      <td>0.250000</td>\n",
       "      <td>0.250000</td>\n",
       "      <td>0.250000</td>\n",
       "      <td>0.250000</td>\n",
       "      <td>0.353553</td>\n",
       "      <td>0.577350</td>\n",
       "    </tr>\n",
       "    <tr>\n",
       "      <th>6287</th>\n",
       "      <td>0.316228</td>\n",
       "      <td>0.250000</td>\n",
       "      <td>0.353553</td>\n",
       "      <td>0.267261</td>\n",
       "      <td>0.707107</td>\n",
       "      <td>1.000000</td>\n",
       "      <td>0.288675</td>\n",
       "      <td>0.000000</td>\n",
       "      <td>0.000000</td>\n",
       "      <td>0.316228</td>\n",
       "      <td>...</td>\n",
       "      <td>0.500000</td>\n",
       "      <td>0.408248</td>\n",
       "      <td>0.000000</td>\n",
       "      <td>0.707107</td>\n",
       "      <td>0.353553</td>\n",
       "      <td>0.353553</td>\n",
       "      <td>0.353553</td>\n",
       "      <td>0.353553</td>\n",
       "      <td>0.500000</td>\n",
       "      <td>0.408248</td>\n",
       "    </tr>\n",
       "    <tr>\n",
       "      <th>...</th>\n",
       "      <td>...</td>\n",
       "      <td>...</td>\n",
       "      <td>...</td>\n",
       "      <td>...</td>\n",
       "      <td>...</td>\n",
       "      <td>...</td>\n",
       "      <td>...</td>\n",
       "      <td>...</td>\n",
       "      <td>...</td>\n",
       "      <td>...</td>\n",
       "      <td>...</td>\n",
       "      <td>...</td>\n",
       "      <td>...</td>\n",
       "      <td>...</td>\n",
       "      <td>...</td>\n",
       "      <td>...</td>\n",
       "      <td>...</td>\n",
       "      <td>...</td>\n",
       "      <td>...</td>\n",
       "      <td>...</td>\n",
       "      <td>...</td>\n",
       "    </tr>\n",
       "    <tr>\n",
       "      <th>1579</th>\n",
       "      <td>0.474342</td>\n",
       "      <td>0.125000</td>\n",
       "      <td>0.176777</td>\n",
       "      <td>0.534522</td>\n",
       "      <td>0.353553</td>\n",
       "      <td>0.250000</td>\n",
       "      <td>0.433013</td>\n",
       "      <td>0.353553</td>\n",
       "      <td>0.316228</td>\n",
       "      <td>0.474342</td>\n",
       "      <td>...</td>\n",
       "      <td>0.250000</td>\n",
       "      <td>0.204124</td>\n",
       "      <td>0.000000</td>\n",
       "      <td>0.353553</td>\n",
       "      <td>0.530330</td>\n",
       "      <td>0.176777</td>\n",
       "      <td>0.176777</td>\n",
       "      <td>0.176777</td>\n",
       "      <td>0.250000</td>\n",
       "      <td>0.204124</td>\n",
       "    </tr>\n",
       "    <tr>\n",
       "      <th>5717</th>\n",
       "      <td>0.000000</td>\n",
       "      <td>0.000000</td>\n",
       "      <td>0.000000</td>\n",
       "      <td>0.188982</td>\n",
       "      <td>0.000000</td>\n",
       "      <td>0.000000</td>\n",
       "      <td>0.204124</td>\n",
       "      <td>0.500000</td>\n",
       "      <td>0.223607</td>\n",
       "      <td>0.223607</td>\n",
       "      <td>...</td>\n",
       "      <td>0.000000</td>\n",
       "      <td>0.000000</td>\n",
       "      <td>0.000000</td>\n",
       "      <td>0.000000</td>\n",
       "      <td>0.500000</td>\n",
       "      <td>0.000000</td>\n",
       "      <td>0.000000</td>\n",
       "      <td>0.000000</td>\n",
       "      <td>0.000000</td>\n",
       "      <td>0.000000</td>\n",
       "    </tr>\n",
       "    <tr>\n",
       "      <th>3375</th>\n",
       "      <td>0.670820</td>\n",
       "      <td>0.176777</td>\n",
       "      <td>0.250000</td>\n",
       "      <td>0.566947</td>\n",
       "      <td>0.500000</td>\n",
       "      <td>0.353553</td>\n",
       "      <td>0.408248</td>\n",
       "      <td>0.000000</td>\n",
       "      <td>0.223607</td>\n",
       "      <td>0.447214</td>\n",
       "      <td>...</td>\n",
       "      <td>0.353553</td>\n",
       "      <td>0.288675</td>\n",
       "      <td>0.000000</td>\n",
       "      <td>0.500000</td>\n",
       "      <td>0.250000</td>\n",
       "      <td>0.250000</td>\n",
       "      <td>0.250000</td>\n",
       "      <td>0.250000</td>\n",
       "      <td>0.353553</td>\n",
       "      <td>0.288675</td>\n",
       "    </tr>\n",
       "    <tr>\n",
       "      <th>7593</th>\n",
       "      <td>0.365148</td>\n",
       "      <td>0.144338</td>\n",
       "      <td>0.612372</td>\n",
       "      <td>0.462910</td>\n",
       "      <td>0.612372</td>\n",
       "      <td>0.577350</td>\n",
       "      <td>0.500000</td>\n",
       "      <td>0.408248</td>\n",
       "      <td>0.365148</td>\n",
       "      <td>0.365148</td>\n",
       "      <td>...</td>\n",
       "      <td>0.288675</td>\n",
       "      <td>0.235702</td>\n",
       "      <td>0.000000</td>\n",
       "      <td>0.408248</td>\n",
       "      <td>0.408248</td>\n",
       "      <td>0.204124</td>\n",
       "      <td>0.204124</td>\n",
       "      <td>0.204124</td>\n",
       "      <td>0.288675</td>\n",
       "      <td>0.235702</td>\n",
       "    </tr>\n",
       "    <tr>\n",
       "      <th>8634</th>\n",
       "      <td>0.516398</td>\n",
       "      <td>0.204124</td>\n",
       "      <td>0.288675</td>\n",
       "      <td>0.436436</td>\n",
       "      <td>0.577350</td>\n",
       "      <td>0.408248</td>\n",
       "      <td>0.471405</td>\n",
       "      <td>0.000000</td>\n",
       "      <td>0.258199</td>\n",
       "      <td>0.258199</td>\n",
       "      <td>...</td>\n",
       "      <td>0.408248</td>\n",
       "      <td>0.333333</td>\n",
       "      <td>0.000000</td>\n",
       "      <td>0.577350</td>\n",
       "      <td>0.288675</td>\n",
       "      <td>0.288675</td>\n",
       "      <td>0.288675</td>\n",
       "      <td>0.288675</td>\n",
       "      <td>0.408248</td>\n",
       "      <td>0.333333</td>\n",
       "    </tr>\n",
       "  </tbody>\n",
       "</table>\n",
       "<p>99 rows × 12896 columns</p>\n",
       "</div>"
      ],
      "text/plain": [
       "             13767      1735      9624        53      5112      6287  \\\n",
       "anime_id                                                               \n",
       "1735      0.316228  1.000000  0.000000  0.133631  0.176777  0.250000   \n",
       "9624      0.223607  0.000000  1.000000  0.188982  0.500000  0.353553   \n",
       "53        0.507093  0.133631  0.188982  1.000000  0.377964  0.267261   \n",
       "5112      0.447214  0.176777  0.500000  0.377964  1.000000  0.707107   \n",
       "6287      0.316228  0.250000  0.353553  0.267261  0.707107  1.000000   \n",
       "...            ...       ...       ...       ...       ...       ...   \n",
       "1579      0.474342  0.125000  0.176777  0.534522  0.353553  0.250000   \n",
       "5717      0.000000  0.000000  0.000000  0.188982  0.000000  0.000000   \n",
       "3375      0.670820  0.176777  0.250000  0.566947  0.500000  0.353553   \n",
       "7593      0.365148  0.144338  0.612372  0.462910  0.612372  0.577350   \n",
       "8634      0.516398  0.204124  0.288675  0.436436  0.577350  0.408248   \n",
       "\n",
       "              8676      9925     15085      6547  ...     41401     20083  \\\n",
       "anime_id                                          ...                       \n",
       "1735      0.144338  0.000000  0.000000  0.316228  ...  0.500000  0.204124   \n",
       "9624      0.204124  0.000000  0.223607  0.000000  ...  0.000000  0.000000   \n",
       "53        0.771517  0.000000  0.338062  0.338062  ...  0.267261  0.218218   \n",
       "5112      0.408248  0.000000  0.447214  0.223607  ...  0.353553  0.288675   \n",
       "6287      0.288675  0.000000  0.000000  0.316228  ...  0.500000  0.408248   \n",
       "...            ...       ...       ...       ...  ...       ...       ...   \n",
       "1579      0.433013  0.353553  0.316228  0.474342  ...  0.250000  0.204124   \n",
       "5717      0.204124  0.500000  0.223607  0.223607  ...  0.000000  0.000000   \n",
       "3375      0.408248  0.000000  0.223607  0.447214  ...  0.353553  0.288675   \n",
       "7593      0.500000  0.408248  0.365148  0.365148  ...  0.288675  0.235702   \n",
       "8634      0.471405  0.000000  0.258199  0.258199  ...  0.408248  0.333333   \n",
       "\n",
       "             37058     31317      3778     34502     38562     22053  \\\n",
       "anime_id                                                               \n",
       "1735      0.353553  0.353553  0.176777  0.353553  0.176777  0.176777   \n",
       "9624      0.000000  0.000000  0.000000  0.000000  0.000000  0.000000   \n",
       "53        0.000000  0.377964  0.188982  0.188982  0.755929  0.188982   \n",
       "5112      0.000000  0.500000  0.250000  0.250000  0.250000  0.250000   \n",
       "6287      0.000000  0.707107  0.353553  0.353553  0.353553  0.353553   \n",
       "...            ...       ...       ...       ...       ...       ...   \n",
       "1579      0.000000  0.353553  0.530330  0.176777  0.176777  0.176777   \n",
       "5717      0.000000  0.000000  0.500000  0.000000  0.000000  0.000000   \n",
       "3375      0.000000  0.500000  0.250000  0.250000  0.250000  0.250000   \n",
       "7593      0.000000  0.408248  0.408248  0.204124  0.204124  0.204124   \n",
       "8634      0.000000  0.577350  0.288675  0.288675  0.288675  0.288675   \n",
       "\n",
       "              2280     27491  \n",
       "anime_id                      \n",
       "1735      0.250000  0.204124  \n",
       "9624      0.353553  0.000000  \n",
       "53        0.267261  0.218218  \n",
       "5112      0.353553  0.577350  \n",
       "6287      0.500000  0.408248  \n",
       "...            ...       ...  \n",
       "1579      0.250000  0.204124  \n",
       "5717      0.000000  0.000000  \n",
       "3375      0.353553  0.288675  \n",
       "7593      0.288675  0.235702  \n",
       "8634      0.408248  0.333333  \n",
       "\n",
       "[99 rows x 12896 columns]"
      ]
     },
     "execution_count": 59,
     "metadata": {},
     "output_type": "execute_result"
    }
   ],
   "source": [
    "df2"
   ]
  },
  {
   "cell_type": "code",
   "execution_count": 62,
   "metadata": {},
   "outputs": [
    {
     "data": {
      "text/plain": [
       "Index([ 1735,  9624,    53,  5112,  6287,  8676,  9925, 15085,  6547, 21995,\n",
       "         104,  6347,  5081,    67,    68,  7059,   269,  4835,   819,   232,\n",
       "         371,   372, 10800, 13349,    60,  1575, 11703,  6747,  1535,  2994,\n",
       "        8086,  9690,  9330,  6746,  4789,  2924,  9761,   120,    71,    73,\n",
       "          72,   122,  1996,   121,  5114, 23289,  8425,   243,   507, 13161,\n",
       "        6895,  9065, 13115,  4551, 16528,  5835,   587,  3298,   270,  5060,\n",
       "       12461, 14645,  8768,  8426,   136,   138,   139,  3210, 11013,   249,\n",
       "         452,   450,   451,   449,  6811,  9041,  3731,   228,  1594,  3713,\n",
       "        3092,  4814, 14467,  5680,  7054, 14713, 25681,   145,   469,  1691,\n",
       "          52,  6045,  9656, 10152,  1579,  5717,  3375,  7593,  8634],\n",
       "      dtype='int64', name='anime_id')"
      ]
     },
     "execution_count": 62,
     "metadata": {},
     "output_type": "execute_result"
    }
   ],
   "source": [
    "df2.index"
   ]
  },
  {
   "cell_type": "code",
   "execution_count": 67,
   "metadata": {},
   "outputs": [
    {
     "ename": "KeyError",
     "evalue": "401",
     "output_type": "error",
     "traceback": [
      "\u001b[0;31m---------------------------------------------------------------------------\u001b[0m",
      "\u001b[0;31mKeyError\u001b[0m                                  Traceback (most recent call last)",
      "File \u001b[0;32m/workspaces/recommendation_anime/venv/lib/python3.10/site-packages/pandas/core/indexes/base.py:3805\u001b[0m, in \u001b[0;36mIndex.get_loc\u001b[0;34m(self, key)\u001b[0m\n\u001b[1;32m   3804\u001b[0m \u001b[38;5;28;01mtry\u001b[39;00m:\n\u001b[0;32m-> 3805\u001b[0m     \u001b[38;5;28;01mreturn\u001b[39;00m \u001b[38;5;28;43mself\u001b[39;49m\u001b[38;5;241;43m.\u001b[39;49m\u001b[43m_engine\u001b[49m\u001b[38;5;241;43m.\u001b[39;49m\u001b[43mget_loc\u001b[49m\u001b[43m(\u001b[49m\u001b[43mcasted_key\u001b[49m\u001b[43m)\u001b[49m\n\u001b[1;32m   3806\u001b[0m \u001b[38;5;28;01mexcept\u001b[39;00m \u001b[38;5;167;01mKeyError\u001b[39;00m \u001b[38;5;28;01mas\u001b[39;00m err:\n",
      "File \u001b[0;32mindex.pyx:167\u001b[0m, in \u001b[0;36mpandas._libs.index.IndexEngine.get_loc\u001b[0;34m()\u001b[0m\n",
      "File \u001b[0;32mindex.pyx:196\u001b[0m, in \u001b[0;36mpandas._libs.index.IndexEngine.get_loc\u001b[0;34m()\u001b[0m\n",
      "File \u001b[0;32mpandas/_libs/hashtable_class_helper.pxi:2606\u001b[0m, in \u001b[0;36mpandas._libs.hashtable.Int64HashTable.get_item\u001b[0;34m()\u001b[0m\n",
      "File \u001b[0;32mpandas/_libs/hashtable_class_helper.pxi:2630\u001b[0m, in \u001b[0;36mpandas._libs.hashtable.Int64HashTable.get_item\u001b[0;34m()\u001b[0m\n",
      "\u001b[0;31mKeyError\u001b[0m: 401",
      "\nThe above exception was the direct cause of the following exception:\n",
      "\u001b[0;31mKeyError\u001b[0m                                  Traceback (most recent call last)",
      "Cell \u001b[0;32mIn[67], line 1\u001b[0m\n\u001b[0;32m----> 1\u001b[0m \u001b[43mdf2\u001b[49m\u001b[38;5;241;43m.\u001b[39;49m\u001b[43mloc\u001b[49m\u001b[43m[\u001b[49m\u001b[38;5;241;43m401\u001b[39;49m\u001b[43m]\u001b[49m\n",
      "File \u001b[0;32m/workspaces/recommendation_anime/venv/lib/python3.10/site-packages/pandas/core/indexing.py:1191\u001b[0m, in \u001b[0;36m_LocationIndexer.__getitem__\u001b[0;34m(self, key)\u001b[0m\n\u001b[1;32m   1189\u001b[0m maybe_callable \u001b[38;5;241m=\u001b[39m com\u001b[38;5;241m.\u001b[39mapply_if_callable(key, \u001b[38;5;28mself\u001b[39m\u001b[38;5;241m.\u001b[39mobj)\n\u001b[1;32m   1190\u001b[0m maybe_callable \u001b[38;5;241m=\u001b[39m \u001b[38;5;28mself\u001b[39m\u001b[38;5;241m.\u001b[39m_check_deprecated_callable_usage(key, maybe_callable)\n\u001b[0;32m-> 1191\u001b[0m \u001b[38;5;28;01mreturn\u001b[39;00m \u001b[38;5;28;43mself\u001b[39;49m\u001b[38;5;241;43m.\u001b[39;49m\u001b[43m_getitem_axis\u001b[49m\u001b[43m(\u001b[49m\u001b[43mmaybe_callable\u001b[49m\u001b[43m,\u001b[49m\u001b[43m \u001b[49m\u001b[43maxis\u001b[49m\u001b[38;5;241;43m=\u001b[39;49m\u001b[43maxis\u001b[49m\u001b[43m)\u001b[49m\n",
      "File \u001b[0;32m/workspaces/recommendation_anime/venv/lib/python3.10/site-packages/pandas/core/indexing.py:1431\u001b[0m, in \u001b[0;36m_LocIndexer._getitem_axis\u001b[0;34m(self, key, axis)\u001b[0m\n\u001b[1;32m   1429\u001b[0m \u001b[38;5;66;03m# fall thru to straight lookup\u001b[39;00m\n\u001b[1;32m   1430\u001b[0m \u001b[38;5;28mself\u001b[39m\u001b[38;5;241m.\u001b[39m_validate_key(key, axis)\n\u001b[0;32m-> 1431\u001b[0m \u001b[38;5;28;01mreturn\u001b[39;00m \u001b[38;5;28;43mself\u001b[39;49m\u001b[38;5;241;43m.\u001b[39;49m\u001b[43m_get_label\u001b[49m\u001b[43m(\u001b[49m\u001b[43mkey\u001b[49m\u001b[43m,\u001b[49m\u001b[43m \u001b[49m\u001b[43maxis\u001b[49m\u001b[38;5;241;43m=\u001b[39;49m\u001b[43maxis\u001b[49m\u001b[43m)\u001b[49m\n",
      "File \u001b[0;32m/workspaces/recommendation_anime/venv/lib/python3.10/site-packages/pandas/core/indexing.py:1381\u001b[0m, in \u001b[0;36m_LocIndexer._get_label\u001b[0;34m(self, label, axis)\u001b[0m\n\u001b[1;32m   1379\u001b[0m \u001b[38;5;28;01mdef\u001b[39;00m \u001b[38;5;21m_get_label\u001b[39m(\u001b[38;5;28mself\u001b[39m, label, axis: AxisInt):\n\u001b[1;32m   1380\u001b[0m     \u001b[38;5;66;03m# GH#5567 this will fail if the label is not present in the axis.\u001b[39;00m\n\u001b[0;32m-> 1381\u001b[0m     \u001b[38;5;28;01mreturn\u001b[39;00m \u001b[38;5;28;43mself\u001b[39;49m\u001b[38;5;241;43m.\u001b[39;49m\u001b[43mobj\u001b[49m\u001b[38;5;241;43m.\u001b[39;49m\u001b[43mxs\u001b[49m\u001b[43m(\u001b[49m\u001b[43mlabel\u001b[49m\u001b[43m,\u001b[49m\u001b[43m \u001b[49m\u001b[43maxis\u001b[49m\u001b[38;5;241;43m=\u001b[39;49m\u001b[43maxis\u001b[49m\u001b[43m)\u001b[49m\n",
      "File \u001b[0;32m/workspaces/recommendation_anime/venv/lib/python3.10/site-packages/pandas/core/generic.py:4301\u001b[0m, in \u001b[0;36mNDFrame.xs\u001b[0;34m(self, key, axis, level, drop_level)\u001b[0m\n\u001b[1;32m   4299\u001b[0m             new_index \u001b[38;5;241m=\u001b[39m index[loc]\n\u001b[1;32m   4300\u001b[0m \u001b[38;5;28;01melse\u001b[39;00m:\n\u001b[0;32m-> 4301\u001b[0m     loc \u001b[38;5;241m=\u001b[39m \u001b[43mindex\u001b[49m\u001b[38;5;241;43m.\u001b[39;49m\u001b[43mget_loc\u001b[49m\u001b[43m(\u001b[49m\u001b[43mkey\u001b[49m\u001b[43m)\u001b[49m\n\u001b[1;32m   4303\u001b[0m     \u001b[38;5;28;01mif\u001b[39;00m \u001b[38;5;28misinstance\u001b[39m(loc, np\u001b[38;5;241m.\u001b[39mndarray):\n\u001b[1;32m   4304\u001b[0m         \u001b[38;5;28;01mif\u001b[39;00m loc\u001b[38;5;241m.\u001b[39mdtype \u001b[38;5;241m==\u001b[39m np\u001b[38;5;241m.\u001b[39mbool_:\n",
      "File \u001b[0;32m/workspaces/recommendation_anime/venv/lib/python3.10/site-packages/pandas/core/indexes/base.py:3812\u001b[0m, in \u001b[0;36mIndex.get_loc\u001b[0;34m(self, key)\u001b[0m\n\u001b[1;32m   3807\u001b[0m     \u001b[38;5;28;01mif\u001b[39;00m \u001b[38;5;28misinstance\u001b[39m(casted_key, \u001b[38;5;28mslice\u001b[39m) \u001b[38;5;129;01mor\u001b[39;00m (\n\u001b[1;32m   3808\u001b[0m         \u001b[38;5;28misinstance\u001b[39m(casted_key, abc\u001b[38;5;241m.\u001b[39mIterable)\n\u001b[1;32m   3809\u001b[0m         \u001b[38;5;129;01mand\u001b[39;00m \u001b[38;5;28many\u001b[39m(\u001b[38;5;28misinstance\u001b[39m(x, \u001b[38;5;28mslice\u001b[39m) \u001b[38;5;28;01mfor\u001b[39;00m x \u001b[38;5;129;01min\u001b[39;00m casted_key)\n\u001b[1;32m   3810\u001b[0m     ):\n\u001b[1;32m   3811\u001b[0m         \u001b[38;5;28;01mraise\u001b[39;00m InvalidIndexError(key)\n\u001b[0;32m-> 3812\u001b[0m     \u001b[38;5;28;01mraise\u001b[39;00m \u001b[38;5;167;01mKeyError\u001b[39;00m(key) \u001b[38;5;28;01mfrom\u001b[39;00m \u001b[38;5;21;01merr\u001b[39;00m\n\u001b[1;32m   3813\u001b[0m \u001b[38;5;28;01mexcept\u001b[39;00m \u001b[38;5;167;01mTypeError\u001b[39;00m:\n\u001b[1;32m   3814\u001b[0m     \u001b[38;5;66;03m# If we have a listlike key, _check_indexing_error will raise\u001b[39;00m\n\u001b[1;32m   3815\u001b[0m     \u001b[38;5;66;03m#  InvalidIndexError. Otherwise we fall through and re-raise\u001b[39;00m\n\u001b[1;32m   3816\u001b[0m     \u001b[38;5;66;03m#  the TypeError.\u001b[39;00m\n\u001b[1;32m   3817\u001b[0m     \u001b[38;5;28mself\u001b[39m\u001b[38;5;241m.\u001b[39m_check_indexing_error(key)\n",
      "\u001b[0;31mKeyError\u001b[0m: 401"
     ]
    }
   ],
   "source": [
    "df2.loc[401]"
   ]
  },
  {
   "cell_type": "code",
   "execution_count": 60,
   "metadata": {},
   "outputs": [
    {
     "data": {
      "text/plain": [
       "True"
      ]
     },
     "execution_count": 60,
     "metadata": {},
     "output_type": "execute_result"
    }
   ],
   "source": [
    "44 in anime_mapping.index"
   ]
  },
  {
   "cell_type": "code",
   "execution_count": 46,
   "metadata": {},
   "outputs": [],
   "source": [
    "anime_mapping = pd.read_csv('../data/anime_mapping.csv')"
   ]
  },
  {
   "cell_type": "code",
   "execution_count": 47,
   "metadata": {},
   "outputs": [
    {
     "data": {
      "text/html": [
       "<div>\n",
       "<style scoped>\n",
       "    .dataframe tbody tr th:only-of-type {\n",
       "        vertical-align: middle;\n",
       "    }\n",
       "\n",
       "    .dataframe tbody tr th {\n",
       "        vertical-align: top;\n",
       "    }\n",
       "\n",
       "    .dataframe thead th {\n",
       "        text-align: right;\n",
       "    }\n",
       "</style>\n",
       "<table border=\"1\" class=\"dataframe\">\n",
       "  <thead>\n",
       "    <tr style=\"text-align: right;\">\n",
       "      <th></th>\n",
       "      <th>anime_id</th>\n",
       "      <th>Name</th>\n",
       "      <th>Genres</th>\n",
       "    </tr>\n",
       "  </thead>\n",
       "  <tbody>\n",
       "    <tr>\n",
       "      <th>34</th>\n",
       "      <td>53</td>\n",
       "      <td>Ai Yori Aoshi</td>\n",
       "      <td>Harem, Slice of Life, Comedy, Drama, Romance</td>\n",
       "    </tr>\n",
       "  </tbody>\n",
       "</table>\n",
       "</div>"
      ],
      "text/plain": [
       "    anime_id           Name                                        Genres\n",
       "34        53  Ai Yori Aoshi  Harem, Slice of Life, Comedy, Drama, Romance"
      ]
     },
     "execution_count": 47,
     "metadata": {},
     "output_type": "execute_result"
    }
   ],
   "source": [
    "anime_mapping[anime_mapping['Name'] == 'Ai Yori Aoshi']"
   ]
  },
  {
   "cell_type": "code",
   "execution_count": 52,
   "metadata": {},
   "outputs": [
    {
     "data": {
      "text/plain": [
       "53"
      ]
     },
     "execution_count": 52,
     "metadata": {},
     "output_type": "execute_result"
    }
   ],
   "source": [
    "anime_mapping[anime_mapping['Name'] == 'Ai Yori Aoshi']['anime_id'].values[0]"
   ]
  },
  {
   "cell_type": "code",
   "execution_count": 54,
   "metadata": {},
   "outputs": [
    {
     "data": {
      "text/plain": [
       "Series([], Name: Name, dtype: object)"
      ]
     },
     "execution_count": 54,
     "metadata": {},
     "output_type": "execute_result"
    }
   ],
   "source": [
    "anime_id = 1310\n",
    "anime_mapping[anime_mapping['anime_id']== anime_id]['Name']"
   ]
  },
  {
   "cell_type": "code",
   "execution_count": 55,
   "metadata": {},
   "outputs": [
    {
     "name": "stdout",
     "output_type": "stream",
     "text": [
      "<class 'pandas.core.frame.DataFrame'>\n",
      "RangeIndex: 16214 entries, 0 to 16213\n",
      "Data columns (total 3 columns):\n",
      " #   Column    Non-Null Count  Dtype \n",
      "---  ------    --------------  ----- \n",
      " 0   anime_id  16214 non-null  int64 \n",
      " 1   Name      16214 non-null  object\n",
      " 2   Genres    16214 non-null  object\n",
      "dtypes: int64(1), object(2)\n",
      "memory usage: 380.1+ KB\n"
     ]
    }
   ],
   "source": [
    "anime_mapping.info()"
   ]
  },
  {
   "cell_type": "code",
   "execution_count": 57,
   "metadata": {},
   "outputs": [
    {
     "name": "stdout",
     "output_type": "stream",
     "text": [
      "Not equal\n"
     ]
    }
   ],
   "source": [
    "num = 10\n",
    "str_num = \"10\"\n",
    "\n",
    "# 隐式转换后进行比较\n",
    "if num == str_num:\n",
    "    print(\"Equal\")\n",
    "else:\n",
    "    print(\"Not equal\")"
   ]
  },
  {
   "cell_type": "code",
   "execution_count": 3,
   "metadata": {},
   "outputs": [
    {
     "name": "stdout",
     "output_type": "stream",
     "text": [
      "1033\n"
     ]
    }
   ],
   "source": [
    "# 假设 X_test 和 anime_test 是存储用户数据的 DataFrame\n",
    "# 取出 user_id 列的交集\n",
    "X_test = pd.read_csv('../data/X_test.csv')\n",
    "anime_test = pd.read_csv('../data/anime_test.csv')\n",
    "merged_df = X_test.merge(anime_test, on='user_id')\n",
    "common_user_ids = merged_df['user_id'].unique()\n",
    "print(len(common_user_ids))"
   ]
  },
  {
   "cell_type": "code",
   "execution_count": null,
   "metadata": {},
   "outputs": [],
   "source": []
  }
 ],
 "metadata": {
  "kernelspec": {
   "display_name": "venv",
   "language": "python",
   "name": "python3"
  },
  "language_info": {
   "codemirror_mode": {
    "name": "ipython",
    "version": 3
   },
   "file_extension": ".py",
   "mimetype": "text/x-python",
   "name": "python",
   "nbconvert_exporter": "python",
   "pygments_lexer": "ipython3",
   "version": "3.10.13"
  }
 },
 "nbformat": 4,
 "nbformat_minor": 2
}
